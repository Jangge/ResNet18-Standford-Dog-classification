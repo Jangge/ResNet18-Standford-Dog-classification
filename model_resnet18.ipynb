{
 "cells": [
  {
   "cell_type": "markdown",
   "id": "659c43c8",
   "metadata": {},
   "source": [
    "# --------------------------使用pytorch搭建rexnet18模型----------------------"
   ]
  },
  {
   "cell_type": "markdown",
   "id": "01f2e96a",
   "metadata": {},
   "source": [
    "- 先构建残差块\n",
    "- 然后逐层搭建模型\n",
    "- 实例化模型"
   ]
  },
  {
   "cell_type": "code",
   "execution_count": 20,
   "id": "465294cd",
   "metadata": {},
   "outputs": [],
   "source": [
    "import torch\n",
    "from torch import nn\n",
    "from torch.nn import functional as F\n",
    "import torchvision.transforms as transforms\n",
    "import torch.utils.data as data\n",
    "from torch.utils.data import DataLoader\n",
    "import torchvision\n",
    "import torchvision.models as models"
   ]
  },
  {
   "cell_type": "code",
   "execution_count": 21,
   "id": "c07e10d1",
   "metadata": {},
   "outputs": [],
   "source": [
    "\"\"\"定义残差连接\"\"\"\n",
    "class Residual(nn.Module):\n",
    "    def __init__(self, input_channels, num_channels, use_conv=False, strides=1):\n",
    "        super().__init__()\n",
    "        self.fn1 = nn.Conv2d(input_channels, num_channels, kernel_size=3, padding=1, stride=strides)\n",
    "        self.fn2 = nn.Conv2d(num_channels, num_channels, kernel_size=3, padding=1, stride=1)\n",
    "        self.bn1 = nn.BatchNorm2d(num_channels)\n",
    "        self.bn2 = nn.BatchNorm2d(num_channels)\n",
    "        \n",
    "        # 定义是否需要使用1x1卷积来改变通道维度\n",
    "        if use_conv:\n",
    "            self.fn3 = nn.Conv2d(input_channels, num_channels, kernel_size=1, stride=strides)\n",
    "        else:\n",
    "            self.fn3 = None\n",
    "        \n",
    "    # 定义模型前向传播函数\n",
    "    def forward(self, x):\n",
    "        output = F.relu(self.bn1(self.fn1(x))) # 卷积+批量归一化+激活函数\n",
    "        output = self.bn2(self.fn2(output)) # 卷积+批量归一化\n",
    "        if self.fn3:\n",
    "            x = self.fn3(x)\n",
    "        output += x\n",
    "        return F.relu(output)"
   ]
  },
  {
   "cell_type": "code",
   "execution_count": 22,
   "id": "2fb7f777",
   "metadata": {},
   "outputs": [],
   "source": [
    "\"\"\"定义残差块\"\"\"\n",
    "def resnetblock(input_channels, num_channels, num_residual, first=False):\n",
    "    blk = []\n",
    "    for i in range(num_residual):\n",
    "        if i == 0 and not first:\n",
    "            blk.append(Residual(input_channels, num_channels, use_conv=True, strides=2))\n",
    "        else:\n",
    "            blk.append(Residual(num_channels, num_channels, use_conv=False))\n",
    "    \n",
    "    return blk"
   ]
  },
  {
   "cell_type": "code",
   "execution_count": 23,
   "id": "c31ef51d",
   "metadata": {},
   "outputs": [],
   "source": [
    "\"\"\"一层一层搭建模型\"\"\"\n",
    "def resnet18(output):\n",
    "    b1 = nn.Sequential(nn.Conv2d(3, 64, kernel_size=7, stride=2, padding=3), nn.BatchNorm2d(64),nn.ReLU(),\n",
    "                   nn.MaxPool2d(kernel_size=3, stride=2, padding=1))\n",
    "    b2 = nn.Sequential(*resnetblock(64, 64, 2, first=True)) # \"解包,将序列所有元素作为单独的参数,并创建一个新的神经网络层序列。\n",
    "    b3 = nn.Sequential(*resnetblock(64, 128, 2))\n",
    "    b4 = nn.Sequential(*resnetblock(128, 256, 2))\n",
    "    b5 = nn.Sequential(*resnetblock(256, 512, 2))\n",
    "\n",
    "# 将所有层汇总，变成一个整体模型\n",
    "    model = nn.Sequential(b1, b2, b3, b4, b5, \n",
    "                      nn.AdaptiveAvgPool2d((1, 1)),# 全局平均池化层\n",
    "                      nn.Flatten(), # 将张量转换成一维\n",
    "                      nn.Linear(512, output) # 全连接层对应输出分类\n",
    "                     )\n",
    "    return model\n",
    "    "
   ]
  },
  {
   "cell_type": "markdown",
   "id": "8105a868",
   "metadata": {},
   "source": [
    "\"\"\"定义使用GPU进行计算\"\"\"\n",
    "device = torch.device('cuda' if torch.cuda.is_available() else 'cpu')"
   ]
  },
  {
   "cell_type": "markdown",
   "id": "d7e29110",
   "metadata": {},
   "source": [
    "model = model.to(device)"
   ]
  },
  {
   "cell_type": "markdown",
   "id": "a46b54fc",
   "metadata": {},
   "source": [
    "# 查看模型可学习的参数量\n",
    "total_params = 0\n",
    "# 遍历模型的所有参数，并累加它们的元素数量\n",
    "for param in model.parameters():\n",
    "    # 参数元素数量等于其形状中的元素个数之积\n",
    "    num_params = param.numel()\n",
    "    total_params += num_params\n",
    "\n",
    "print(f\"Total parameters: {total_params}\")"
   ]
  },
  {
   "cell_type": "code",
   "execution_count": null,
   "id": "f7d89449",
   "metadata": {},
   "outputs": [],
   "source": []
  }
 ],
 "metadata": {
  "kernelspec": {
   "display_name": "machine_zzh",
   "language": "python",
   "name": "machine_zzh"
  },
  "language_info": {
   "codemirror_mode": {
    "name": "ipython",
    "version": 3
   },
   "file_extension": ".py",
   "mimetype": "text/x-python",
   "name": "python",
   "nbconvert_exporter": "python",
   "pygments_lexer": "ipython3",
   "version": "3.10.11"
  }
 },
 "nbformat": 4,
 "nbformat_minor": 5
}
