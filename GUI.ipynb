{
 "cells": [
  {
   "cell_type": "markdown",
   "id": "dea14a31",
   "metadata": {},
   "source": [
    "# ---------------------------------------搭建图形化界面--------------------------------------"
   ]
  },
  {
   "cell_type": "markdown",
   "id": "94daf4f6",
   "metadata": {},
   "source": [
    "# 还需要完善按图片选择和格式固定部分"
   ]
  },
  {
   "cell_type": "markdown",
   "id": "92e9bd87",
   "metadata": {},
   "source": [
    "### 要实现的功能：\n",
    "- 有一个画布，用于显示待分类的图象\n",
    "- 有一个按钮和输入框用于从文件中选择图片，选择图片后，图片会出现在画布上\n",
    "- 有一个按钮用于预测，点击就可一预测，并且预测结果出现在下面的框中"
   ]
  },
  {
   "cell_type": "code",
   "execution_count": 1,
   "id": "d0a51453",
   "metadata": {},
   "outputs": [
    {
     "name": "stdout",
     "output_type": "stream",
     "text": [
      "importing Jupyter notebook from model_resnet18.ipynb\n"
     ]
    }
   ],
   "source": [
    "import ipywidgets as widgets\n",
    "from IPython.display import display, clear_output\n",
    "import cv2 as cv\n",
    "import import_ipynb\n",
    "\n",
    "import tkinter as tk\n",
    "from tkinter import *\n",
    "from PIL import Image, ImageTk\n",
    "from tkinter import filedialog\n",
    "import pickle\n",
    "import torch\n",
    "import torchvision\n",
    "from torchvision import transforms\n",
    "\n",
    "from model_resnet18 import resnet18"
   ]
  },
  {
   "cell_type": "code",
   "execution_count": 2,
   "id": "dcfb8e78",
   "metadata": {
    "scrolled": true
   },
   "outputs": [
    {
     "data": {
      "text/plain": [
       "Sequential(\n",
       "  (0): Sequential(\n",
       "    (0): Conv2d(3, 64, kernel_size=(7, 7), stride=(2, 2), padding=(3, 3))\n",
       "    (1): BatchNorm2d(64, eps=1e-05, momentum=0.1, affine=True, track_running_stats=True)\n",
       "    (2): ReLU()\n",
       "    (3): MaxPool2d(kernel_size=3, stride=2, padding=1, dilation=1, ceil_mode=False)\n",
       "  )\n",
       "  (1): Sequential(\n",
       "    (0): Residual(\n",
       "      (fn1): Conv2d(64, 64, kernel_size=(3, 3), stride=(1, 1), padding=(1, 1))\n",
       "      (fn2): Conv2d(64, 64, kernel_size=(3, 3), stride=(1, 1), padding=(1, 1))\n",
       "      (bn1): BatchNorm2d(64, eps=1e-05, momentum=0.1, affine=True, track_running_stats=True)\n",
       "      (bn2): BatchNorm2d(64, eps=1e-05, momentum=0.1, affine=True, track_running_stats=True)\n",
       "    )\n",
       "    (1): Residual(\n",
       "      (fn1): Conv2d(64, 64, kernel_size=(3, 3), stride=(1, 1), padding=(1, 1))\n",
       "      (fn2): Conv2d(64, 64, kernel_size=(3, 3), stride=(1, 1), padding=(1, 1))\n",
       "      (bn1): BatchNorm2d(64, eps=1e-05, momentum=0.1, affine=True, track_running_stats=True)\n",
       "      (bn2): BatchNorm2d(64, eps=1e-05, momentum=0.1, affine=True, track_running_stats=True)\n",
       "    )\n",
       "  )\n",
       "  (2): Sequential(\n",
       "    (0): Residual(\n",
       "      (fn1): Conv2d(64, 128, kernel_size=(3, 3), stride=(2, 2), padding=(1, 1))\n",
       "      (fn2): Conv2d(128, 128, kernel_size=(3, 3), stride=(1, 1), padding=(1, 1))\n",
       "      (bn1): BatchNorm2d(128, eps=1e-05, momentum=0.1, affine=True, track_running_stats=True)\n",
       "      (bn2): BatchNorm2d(128, eps=1e-05, momentum=0.1, affine=True, track_running_stats=True)\n",
       "      (fn3): Conv2d(64, 128, kernel_size=(1, 1), stride=(2, 2))\n",
       "    )\n",
       "    (1): Residual(\n",
       "      (fn1): Conv2d(128, 128, kernel_size=(3, 3), stride=(1, 1), padding=(1, 1))\n",
       "      (fn2): Conv2d(128, 128, kernel_size=(3, 3), stride=(1, 1), padding=(1, 1))\n",
       "      (bn1): BatchNorm2d(128, eps=1e-05, momentum=0.1, affine=True, track_running_stats=True)\n",
       "      (bn2): BatchNorm2d(128, eps=1e-05, momentum=0.1, affine=True, track_running_stats=True)\n",
       "    )\n",
       "  )\n",
       "  (3): Sequential(\n",
       "    (0): Residual(\n",
       "      (fn1): Conv2d(128, 256, kernel_size=(3, 3), stride=(2, 2), padding=(1, 1))\n",
       "      (fn2): Conv2d(256, 256, kernel_size=(3, 3), stride=(1, 1), padding=(1, 1))\n",
       "      (bn1): BatchNorm2d(256, eps=1e-05, momentum=0.1, affine=True, track_running_stats=True)\n",
       "      (bn2): BatchNorm2d(256, eps=1e-05, momentum=0.1, affine=True, track_running_stats=True)\n",
       "      (fn3): Conv2d(128, 256, kernel_size=(1, 1), stride=(2, 2))\n",
       "    )\n",
       "    (1): Residual(\n",
       "      (fn1): Conv2d(256, 256, kernel_size=(3, 3), stride=(1, 1), padding=(1, 1))\n",
       "      (fn2): Conv2d(256, 256, kernel_size=(3, 3), stride=(1, 1), padding=(1, 1))\n",
       "      (bn1): BatchNorm2d(256, eps=1e-05, momentum=0.1, affine=True, track_running_stats=True)\n",
       "      (bn2): BatchNorm2d(256, eps=1e-05, momentum=0.1, affine=True, track_running_stats=True)\n",
       "    )\n",
       "  )\n",
       "  (4): Sequential(\n",
       "    (0): Residual(\n",
       "      (fn1): Conv2d(256, 512, kernel_size=(3, 3), stride=(2, 2), padding=(1, 1))\n",
       "      (fn2): Conv2d(512, 512, kernel_size=(3, 3), stride=(1, 1), padding=(1, 1))\n",
       "      (bn1): BatchNorm2d(512, eps=1e-05, momentum=0.1, affine=True, track_running_stats=True)\n",
       "      (bn2): BatchNorm2d(512, eps=1e-05, momentum=0.1, affine=True, track_running_stats=True)\n",
       "      (fn3): Conv2d(256, 512, kernel_size=(1, 1), stride=(2, 2))\n",
       "    )\n",
       "    (1): Residual(\n",
       "      (fn1): Conv2d(512, 512, kernel_size=(3, 3), stride=(1, 1), padding=(1, 1))\n",
       "      (fn2): Conv2d(512, 512, kernel_size=(3, 3), stride=(1, 1), padding=(1, 1))\n",
       "      (bn1): BatchNorm2d(512, eps=1e-05, momentum=0.1, affine=True, track_running_stats=True)\n",
       "      (bn2): BatchNorm2d(512, eps=1e-05, momentum=0.1, affine=True, track_running_stats=True)\n",
       "    )\n",
       "  )\n",
       "  (5): AdaptiveAvgPool2d(output_size=(1, 1))\n",
       "  (6): Flatten(start_dim=1, end_dim=-1)\n",
       "  (7): Linear(in_features=512, out_features=120, bias=True)\n",
       ")"
      ]
     },
     "execution_count": 2,
     "metadata": {},
     "output_type": "execute_result"
    }
   ],
   "source": [
    "\"\"\"加载模型\"\"\"\n",
    "model = resnet18(120) # 需要从模型文件中导入定义的模型函数\n",
    "# 加载模型参数\n",
    "model.load_state_dict(torch.load('model/best.ckpt')) \n",
    "# 将模型转移到GPU中\n",
    "device = torch.device('cuda' if torch.cuda.is_available() else 'cpu')\n",
    "model = model.to(device)\n",
    "# 模型进入验证模式\n",
    "model.eval()"
   ]
  },
  {
   "cell_type": "code",
   "execution_count": 3,
   "id": "e1ec8ecd",
   "metadata": {},
   "outputs": [],
   "source": [
    "\"\"\"创建加载图片的函数\"\"\"\n",
    "# 从文件夹选择图象然后再画布上显示图象，图象需要经过裁剪224*224\n",
    "def load_image():\n",
    "    global file_path\n",
    "    file_path = filedialog.askopenfilename(filetypes=[(\"Image files\", \"*.png;*.jpg;*.jpeg;*.gif;*.bmp\")]) # 直接询问打开图片的内置函数\n",
    "    if file_path:\n",
    "        img = Image.open(file_path) # 打开图片\n",
    "        img.thumbnail((480, 480)) # 调整图片大小\n",
    "        resized_img = ImageTk.PhotoImage(img)\n",
    "        canvas.image = resized_img # 保持图片引用，防止被垃圾回收\n",
    "        \n",
    "        canvas.create_image(canvas.winfo_width() // 2, canvas.winfo_height() // 2, anchor='center', image=resized_img)\n",
    "        \n",
    "        \n",
    "    "
   ]
  },
  {
   "cell_type": "code",
   "execution_count": 4,
   "id": "2593da50",
   "metadata": {},
   "outputs": [],
   "source": [
    "\"\"\"创建用于预测的函数\"\"\"\n",
    "\n",
    "# 先要定义输入图片的预处理操作\n",
    "transform = torchvision.transforms.Compose([\n",
    "    torchvision.transforms.Resize(256),\n",
    "    # 从图像中心裁切224x224大小的图片\n",
    "    torchvision.transforms.CenterCrop(224),\n",
    "    torchvision.transforms.ToTensor(),\n",
    "    torchvision.transforms.Normalize([0.485, 0.456, 0.406],\n",
    "                                     [0.229, 0.224, 0.225])]) \n",
    "\n",
    "# 加载需要的索引对应标签字典\n",
    "with open('model/labels_dict.pickle', 'rb') as f:\n",
    "    class_map = pickle.load(f)\n",
    "    \n",
    "\n",
    "\n",
    "file_path = False\n",
    "def model_predict():\n",
    "    global file_path\n",
    "    global result_text\n",
    "    if file_path:\n",
    "        # 先对输入图象进行transform操作\n",
    "        input_img = Image.open(file_path)\n",
    "        \n",
    "        input_img = transform(input_img)\n",
    "        device = torch.device('cuda' if torch.cuda.is_available() else 'cpu')\n",
    "        input_img = input_img.to(device)\n",
    "        # 增加一个维度用于模型输入\n",
    "        input_img = input_img.unsqueeze(0)\n",
    "        # 预测分类结果\n",
    "        pre = model(input_img)\n",
    "        # 选择最大概率为分类结果\n",
    "        output_label = torch.argmax(pre).item()\n",
    "        # 加载索引和分类结果的字典\n",
    "\n",
    "        # 导出分类结果\n",
    "        predicted_label = class_map[output_label]\n",
    "        # 在输出框显示结果\n",
    "        result_text.delete(\"1.0\", tk.END)  # 清空文本框\n",
    "        result_text.insert(tk.END, f\"小狗的种类是: {predicted_label}\")\n",
    "    else:\n",
    "        result_text.delete(\"1.0\", tk.END)  # 清空文本框\n",
    "        result_text.insert(tk.END, \"请先选择图片\")\n"
   ]
  },
  {
   "cell_type": "code",
   "execution_count": 9,
   "id": "6dec6cd8",
   "metadata": {
    "scrolled": true
   },
   "outputs": [],
   "source": [
    "\"\"\"创建一个窗口\"\"\"\n",
    "window = tk.Tk()      \n",
    "window.title(\"小狗分类\")\n",
    "window.geometry(\"1000x800\")\n",
    "\n",
    "\"\"\"创建一个画布\"\"\"\n",
    "canvas=Canvas(window, bg='white', width=720, height=480)\n",
    "canvas.grid(column=0, row=0)\n",
    "\n",
    "\n",
    "\"\"\"创建两个按钮和一个输出框\"\"\"\n",
    "\n",
    "# 第一个按钮用于打开和显示选择的图片\n",
    "load_button = tk.Button(window, text=\"选择图片\", command=load_image)\n",
    "load_button.grid(column=0, row=3)\n",
    "\n",
    "# 第二个按钮用于预测\n",
    "pre_button = tk.Button(window, text=\"开始分类\", command=model_predict)\n",
    "pre_button.grid(column=0, row=4)\n",
    "\n",
    "# 第三个输出框用于显示预测的分类结果\n",
    "result_text = tk.Text(window, height=2, width=40)\n",
    "result_text.grid(column=0, row=6)\n"
   ]
  },
  {
   "cell_type": "code",
   "execution_count": 10,
   "id": "fa9a1414",
   "metadata": {},
   "outputs": [],
   "source": [
    "window.mainloop()"
   ]
  },
  {
   "cell_type": "code",
   "execution_count": null,
   "id": "12262665",
   "metadata": {},
   "outputs": [],
   "source": []
  }
 ],
 "metadata": {
  "kernelspec": {
   "display_name": "machine_zzh",
   "language": "python",
   "name": "machine_zzh"
  },
  "language_info": {
   "codemirror_mode": {
    "name": "ipython",
    "version": 3
   },
   "file_extension": ".py",
   "mimetype": "text/x-python",
   "name": "python",
   "nbconvert_exporter": "python",
   "pygments_lexer": "ipython3",
   "version": "3.10.11"
  }
 },
 "nbformat": 4,
 "nbformat_minor": 5
}
