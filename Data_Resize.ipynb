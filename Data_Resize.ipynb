{
 "cells": [
  {
   "cell_type": "markdown",
   "id": "030c3c41",
   "metadata": {},
   "source": [
    "# -----------------------对数据集的预处理--------------------------------------------"
   ]
  },
  {
   "cell_type": "markdown",
   "id": "bac19a2f",
   "metadata": {},
   "source": [
    "- ### 将数据集划分为训练集和验证集\n",
    "- ### 从标注文件中提取图片及其对应的标签并做成一个csv文件\n",
    "- ### 提起标签的真实名称与索引的对应关系用于预测"
   ]
  },
  {
   "cell_type": "code",
   "execution_count": 43,
   "id": "acfcf36e",
   "metadata": {},
   "outputs": [],
   "source": [
    "from scipy import io\n",
    "import pandas as pd\n",
    "import os\n",
    "from PIL import Image\n",
    "import pickle\n",
    "import re\n",
    "\n",
    "import numpy as np\n",
    "import matplotlib.pyplot as plt"
   ]
  },
  {
   "cell_type": "markdown",
   "id": "4f40b3e6",
   "metadata": {},
   "source": [
    "# 方法一：使用默认数据集的处理方法，只用准备固定的文件格式就行"
   ]
  },
  {
   "cell_type": "code",
   "execution_count": 34,
   "id": "432e380e",
   "metadata": {},
   "outputs": [],
   "source": [
    "\"\"\"打开标注文件\"\"\"\n",
    "dog_train = io.loadmat('data/lists/train_list.mat') # 训练的标注文件 \n",
    "train_images = dog_train['file_list']  # 所有训练样本的名称"
   ]
  },
  {
   "cell_type": "code",
   "execution_count": 88,
   "id": "7d6a3532",
   "metadata": {},
   "outputs": [],
   "source": [
    "\"\"\"将标签文件中的图片名称提取出来\"\"\"\n",
    "file_paths = [img_path[0][0] for img_path in train_images] # list：['n02085782-Japanese_spaniel/n02085782_4574.jpg',...] \n",
    "# 提取准备创建文件夹的名字\n",
    "path_names = [path.split('/')[0].split('-')[-1] for path in file_paths] # list: ['Chihuahua', 'Chihuahua'...]"
   ]
  },
  {
   "cell_type": "code",
   "execution_count": 89,
   "id": "62540cf6",
   "metadata": {},
   "outputs": [],
   "source": [
    "\"\"\"将图片文件重新缩放并放在新生成的文件夹里\"\"\"\n",
    "# 先定义一个大小调整的函数\n",
    "def resize_image(image, size):\n",
    "    return image.resize(size, Image.Resampling.LANCZOS)"
   ]
  },
  {
   "cell_type": "code",
   "execution_count": 90,
   "id": "8ffaf89a",
   "metadata": {},
   "outputs": [],
   "source": [
    "# 设置图片的输入文件地址和保存文件地址\n",
    "input_path = 'data/Stanford Dogs Dataset_datasets/Stanford Dogs Dataset_images_datasets/Images/'\n",
    "output_train_path = 'data/resize_1/train/'\n",
    "\n",
    "# 检查文件是否已经存在\n",
    "for name in path_names:\n",
    "    output_name = os.path.join(output_train_path, name)\n",
    "    if not os.path.exists(output_name):\n",
    "        os.makedirs(output_name)"
   ]
  },
  {
   "cell_type": "code",
   "execution_count": 91,
   "id": "4385a262",
   "metadata": {},
   "outputs": [],
   "source": [
    "# 将原始图片重新调整大小后保存到新的文佳加中\n",
    "for names in file_paths:\n",
    "    image_path = os.path.join(input_path, names)\n",
    "    path_name = names.split('/')[0].split('-')[-1] \n",
    "    image_name = names.split('/')[-1]\n",
    "    output_image_file = os.path.join(output_train_path, path_name)\n",
    "    with open(image_path, 'rb') as f:\n",
    "        with Image.open(f) as img:\n",
    "            if img.mode == 'RGBA':\n",
    "                img = img.convert('RGB')\n",
    "            resized_img = resize_image(img, (224, 224))\n",
    "\n",
    "    # 保存调整大小后的图像\n",
    "    resized_img.save(os.path.join(output_image_file, image_name), resized_img.format)"
   ]
  },
  {
   "cell_type": "code",
   "execution_count": 93,
   "id": "91e6f743",
   "metadata": {},
   "outputs": [],
   "source": [
    "\"\"\"同样的将测试集也准备好\"\"\"\n",
    "dog_test = io.loadmat('data/lists/test_list.mat') # 训练的标注文件 \n",
    "test_images = dog_test['file_list']  # 所有训练样本的名称\n",
    "file_pathss = [img_path[0][0] for img_path in test_images] # list：['n02085782-Japanese_spaniel/n02085782_4574.jpg',...] \n",
    "# 提取准备创建文件夹的名字\n",
    "path_names = [path.split('/')[0].split('-')[-1] for path in file_pathss] # list: ['Chihuahua', 'Chihuahua'...]\n",
    "\n",
    "input_path = 'data/Stanford Dogs Dataset_datasets/Stanford Dogs Dataset_images_datasets/Images/'\n",
    "output_train_path = 'data/resize_1/test/'\n",
    "\n",
    "# 检查文件是否已经存在\n",
    "for name in path_names:\n",
    "    output_name = os.path.join(output_train_path, name)\n",
    "    if not os.path.exists(output_name):\n",
    "        os.makedirs(output_name)\n",
    "    \n",
    "# 将原始图片重新调整大小后保存到新的文佳加中\n",
    "for names in file_pathss:\n",
    "    image_path = os.path.join(input_path, names)\n",
    "    path_name = names.split('/')[0].split('-')[-1] \n",
    "    image_name = names.split('/')[-1]\n",
    "    output_image_file = os.path.join(output_train_path, path_name)\n",
    "    with open(image_path, 'rb') as f:\n",
    "        with Image.open(f) as img:\n",
    "            if img.mode == 'RGBA':\n",
    "                img = img.convert('RGB')\n",
    "            resized_img = resize_image(img, (224, 224))\n",
    "\n",
    "    # 保存调整大小后的图像\n",
    "    resized_img.save(os.path.join(output_image_file, image_name), resized_img.format)"
   ]
  },
  {
   "cell_type": "markdown",
   "id": "7f50f6bb",
   "metadata": {},
   "source": [
    "# 方法二：使用自定义数据集的处理方法，将所有图片全部放在一个文件夹里面\n",
    "- 通过自定义数据集的方式进行训练\n"
   ]
  },
  {
   "cell_type": "code",
   "execution_count": null,
   "id": "b7ae2c8a",
   "metadata": {},
   "outputs": [],
   "source": [
    "# 训练集\n",
    "dog_train = io.loadmat('data/lists/train_list.mat')\n",
    "train_images = dog_train['file_list']\n",
    "train_tar = dog_train['labels']\n",
    "\n",
    "# 将提取出来的文件转化为字典，图片路径对应标签\n",
    "train_image = []\n",
    "train_target = []\n",
    "for i in range(len(train_images)):\n",
    "    x = train_images[i][0][0]\n",
    "    x = re.search(r'([^\\/]+)$', x).group(1)\n",
    "    y = train_tar[i][0]\n",
    "    train_image.append(x)\n",
    "    train_target.append(y)\n",
    "train_dict = dict(zip(train_image, train_target))\n",
    "\n",
    "# 测试集\n",
    "dog_test = io.loadmat('data/lists/test_list.mat')\n",
    "test_images = dog_test['file_list']\n",
    "test_tar = dog_test['labels']\n",
    "\n",
    "# 将提取出来的文件转化为字典，图片路径对应标签\n",
    "test_image = []\n",
    "test_target = []\n",
    "for i in range(len(test_images)):\n",
    "    x = test_images[i][0][0]\n",
    "    x = re.search(r'([^\\/]+)$', x).group(1)\n",
    "    y = test_tar[i][0]\n",
    "    test_image.append(x)\n",
    "    test_target.append(y)\n",
    "test_dict = dict(zip(test_image, test_target))\n",
    "\n",
    "# 将字典保存下来\n",
    "with open('train_dict.pickle', 'wb') as f:\n",
    "    pickle.dump(train_dict, f)\n",
    "with open('test_dict.pickle', 'wb') as f:\n",
    "    pickle.dump(test_dict, f)  "
   ]
  },
  {
   "cell_type": "code",
   "execution_count": null,
   "id": "770bc519",
   "metadata": {},
   "outputs": [],
   "source": [
    "# 先定义一个大小调整的函数\n",
    "def resize_image(image, size):\n",
    "    return image.resize(size, Image.Resampling.LANCZOS)\n",
    "\n",
    "# 将所有图象调整后输出到指定目录中---只需要执行一次\n",
    "# 训练集\n",
    "for key, value in train_dict.items():\n",
    "    a = os.path.join('data/Stanford Dogs Dataset_datasets/Stanford Dogs Dataset_images_datasets/Images', key)\n",
    "    image = re.search(r'([^\\/]+)$', key).group(1)\n",
    "    with open(a, 'r+b') as f:\n",
    "        with Image.open(f) as img: # 打开图像\n",
    "            if img.mode == 'RGBA': # 防止因为格式报错\n",
    "                img = img.convert('RGB')\n",
    "            img = resize_image(img, (224, 224)) # 调整图像大小\n",
    "            img.save(os.path.join('data/resize/train/', image), img.format)# img.format用于包保留图像的格式\n",
    "\n",
    "for key, value in test_dict.items():\n",
    "    b = os.path.join('data/Stanford Dogs Dataset_datasets/Stanford Dogs Dataset_images_datasets/Images', key)\n",
    "    image = re.search(r'([^\\/]+)$', key).group(1)\n",
    "    with open(b, 'r+b') as f:\n",
    "        with Image.open(f) as img: # 打开图像\n",
    "            if img.mode == 'RGBA':\n",
    "                img = img.convert('RGB')\n",
    "            img = resize_image(img, (224, 224)) # 调整图像大小\n",
    "            img.save(os.path.join('data/resize/test/', image), img.format)# img.format用于包保留图像的格式\n",
    "        \n"
   ]
  }
 ],
 "metadata": {
  "kernelspec": {
   "display_name": "machine_zzh",
   "language": "python",
   "name": "machine_zzh"
  },
  "language_info": {
   "codemirror_mode": {
    "name": "ipython",
    "version": 3
   },
   "file_extension": ".py",
   "mimetype": "text/x-python",
   "name": "python",
   "nbconvert_exporter": "python",
   "pygments_lexer": "ipython3",
   "version": "3.10.11"
  }
 },
 "nbformat": 4,
 "nbformat_minor": 5
}
