{
 "cells": [
  {
   "cell_type": "markdown",
   "id": "f5530eba",
   "metadata": {},
   "source": [
    "# --------------------------------------1、导入所需要的包--------------------------------------------"
   ]
  },
  {
   "cell_type": "code",
   "execution_count": 4,
   "id": "fb1c1056",
   "metadata": {},
   "outputs": [
    {
     "name": "stdout",
     "output_type": "stream",
     "text": [
      "importing Jupyter notebook from model_resnet18.ipynb\n"
     ]
    }
   ],
   "source": [
    "import torch\n",
    "from torch import nn\n",
    "from torch.nn import functional as F\n",
    "import torchvision.transforms as transforms\n",
    "import torch.utils.data as data\n",
    "from torch.utils.data import DataLoader\n",
    "import torchvision\n",
    "import torchvision.models as models\n",
    "\n",
    "from scipy import io\n",
    "import pandas as pd\n",
    "import os\n",
    "from PIL import Image\n",
    "import pickle\n",
    "import re\n",
    "import import_ipynb\n",
    "\n",
    "import numpy as np\n",
    "from model_resnet18 import resnet18"
   ]
  },
  {
   "cell_type": "markdown",
   "id": "aedcfd20",
   "metadata": {},
   "source": [
    "# --------------------------------------2、准备数据集--------------------------------------------------\n",
    "- 之前已经准备好了数据集的预处理和裁剪"
   ]
  },
  {
   "cell_type": "code",
   "execution_count": 2,
   "id": "f25d9f0d",
   "metadata": {},
   "outputs": [],
   "source": [
    "\"\"\"创建自定义数据类\"\"\"\n",
    "# 返回一个元组，包含图片及其对应的标签\n",
    "class Dog(data.Dataset):\n",
    "    def __init__(self, data_dir, train_dict, transform=None):\n",
    "        self.data_dir = data_dir\n",
    "        self.transform = transform\n",
    "        self.train_dict = train_dict\n",
    "        self.file_list = os.listdir(data_dir) # 获取数据集中所有文件的列表\n",
    "    \n",
    "    def __len__(self):\n",
    "        return len(self.file_list) # 返回数据集中样本长度\n",
    "    \n",
    "    def __getitem__(self, idx):\n",
    "        img_name = os.path.join(self.data_dir, self.file_list[idx]) # 获取图片的完整路径\n",
    "        image = Image.open(img_name).convert('RGB')  # 读取图像并转换为RGB格式\n",
    "        \n",
    "        # 判断是否使用transform函数\n",
    "        if self.transform:\n",
    "            image = self.transform(image)\n",
    "        \n",
    "        label = self.train_dict[self.file_list[idx]]\n",
    "        label -= 1\n",
    "        label = torch.tensor(label, dtype=torch.long)\n",
    "        return image, label # 返回经过处理的图像文件和标签\n",
    "        \n",
    "        "
   ]
  },
  {
   "cell_type": "code",
   "execution_count": 3,
   "id": "8d9d3afb",
   "metadata": {},
   "outputs": [],
   "source": [
    "\"\"\"定义图片增广操作\"\"\"\n",
    "# 这一步很关键，针对小数据集模型很容易过拟合！！！需要数据增广来实现数据扩大化\n",
    "transform_train = torchvision.transforms.Compose([\n",
    "    # 随机裁剪图像，所得图像为原始面积的0.08～1之间，高宽比在3/4和4/3之间。\n",
    "    # 然后，缩放图像以创建224x224的新图像\n",
    "    torchvision.transforms.RandomResizedCrop(224, scale=(0.08, 1.0),\n",
    "                                             ratio=(3.0/4.0, 4.0/3.0)),\n",
    "    torchvision.transforms.RandomHorizontalFlip(),\n",
    "    # 随机更改亮度，对比度和饱和度\n",
    "    torchvision.transforms.ColorJitter(brightness=0.4,\n",
    "                                       contrast=0.4,\n",
    "                                       saturation=0.4),\n",
    "    # 添加随机噪声\n",
    "    torchvision.transforms.ToTensor(),\n",
    "    # 标准化图像的每个通道\n",
    "    torchvision.transforms.Normalize([0.485, 0.456, 0.406],\n",
    "                                     [0.229, 0.224, 0.225])])\n",
    "\n",
    "transform_test = torchvision.transforms.Compose([\n",
    "    torchvision.transforms.Resize(256),\n",
    "    # 从图像中心裁切224x224大小的图片\n",
    "    torchvision.transforms.CenterCrop(224),\n",
    "    torchvision.transforms.ToTensor(),\n",
    "    torchvision.transforms.Normalize([0.485, 0.456, 0.406],\n",
    "                                     [0.229, 0.224, 0.225])])"
   ]
  },
  {
   "cell_type": "code",
   "execution_count": 5,
   "id": "a757e556",
   "metadata": {},
   "outputs": [],
   "source": [
    "\"\"\"实例化数据集\"\"\"\n",
    "\n",
    "data_dir = 'data/resize_2/train'\n",
    "with open('data/resize_2/train_dict.pickle', 'rb') as pickle_file:\n",
    "    loaded_dict = pickle.load(pickle_file)\n",
    "\n",
    "train_data = Dog(data_dir, loaded_dict, transform=transform_train)  "
   ]
  },
  {
   "cell_type": "code",
   "execution_count": 6,
   "id": "74bbf26b",
   "metadata": {},
   "outputs": [],
   "source": [
    "\"\"\"打包用于训练的数据集\"\"\"\n",
    "batch_size = 32\n",
    "train_data_loader = data.DataLoader(train_data, batch_size=batch_size, shuffle=True, num_workers=0 )"
   ]
  },
  {
   "cell_type": "markdown",
   "id": "10b289f3",
   "metadata": {},
   "source": [
    "# --------------------------------------3、构建ResNet18网络模型---------------------------------"
   ]
  },
  {
   "cell_type": "markdown",
   "id": "7ef96f3a",
   "metadata": {},
   "source": [
    "- 先构建残差块\n",
    "- 然后逐层搭建模型\n",
    "- 实例化模型"
   ]
  },
  {
   "cell_type": "code",
   "execution_count": 5,
   "id": "774bfab2",
   "metadata": {},
   "outputs": [],
   "source": [
    "\"\"\"定义使用GPU进行计算\"\"\"\n",
    "device = torch.device('cuda' if torch.cuda.is_available() else 'cpu')"
   ]
  },
  {
   "cell_type": "code",
   "execution_count": 6,
   "id": "03380b90",
   "metadata": {},
   "outputs": [],
   "source": [
    "model_train = resnet18(120)\n",
    "model_train = model_train.to(device)"
   ]
  },
  {
   "cell_type": "code",
   "execution_count": 7,
   "id": "ec5d5e7d",
   "metadata": {},
   "outputs": [
    {
     "name": "stdout",
     "output_type": "stream",
     "text": [
      "Total parameters: 11241080\n"
     ]
    }
   ],
   "source": [
    "# 查看模型可学习的参数量\n",
    "total_params = 0\n",
    "# 遍历模型的所有参数，并累加它们的元素数量\n",
    "for param in model_train.parameters():\n",
    "    # 参数元素数量等于其形状中的元素个数之积\n",
    "    num_params = param.numel()\n",
    "    total_params += num_params\n",
    "\n",
    "print(f\"Total parameters: {total_params}\")"
   ]
  },
  {
   "cell_type": "markdown",
   "id": "d6f287b6",
   "metadata": {},
   "source": [
    "\n",
    "# --------------------------------------4、定义损失函数与优化器----------------------------------"
   ]
  },
  {
   "cell_type": "markdown",
   "id": "d72edb63",
   "metadata": {},
   "source": [
    "- 使用agd作为优化器\n",
    "- 使用交叉熵作为损失函数"
   ]
  },
  {
   "cell_type": "code",
   "execution_count": 28,
   "id": "f6601a39",
   "metadata": {},
   "outputs": [],
   "source": [
    "\"\"\"定义交叉熵函数\"\"\"\n",
    "criterion = nn.CrossEntropyLoss()\n",
    "optimizer = torch.optim.Adam(model_train.parameters(), lr=0.001, weight_decay=0.0001)"
   ]
  },
  {
   "cell_type": "markdown",
   "id": "708a9d6b",
   "metadata": {},
   "source": [
    "# --------------------------------------6、定义训练函数----------------------------------------------"
   ]
  },
  {
   "cell_type": "markdown",
   "id": "39064f8f",
   "metadata": {},
   "source": [
    "- 都能自动保存最优模型\n",
    "- 显示每个epoch的训练损失和验证损失"
   ]
  },
  {
   "cell_type": "code",
   "execution_count": 30,
   "id": "732e7e8b",
   "metadata": {},
   "outputs": [],
   "source": [
    "\"\"\"定义训练函数\"\"\"\n",
    "def train(train_data_loader, num_epoch):\n",
    "    \n",
    "    for epoch in range(num_epoch):\n",
    "        \n",
    "        train_loss = []\n",
    "        train_accs = []\n",
    "        best_acc= 0.0\n",
    "        \n",
    "        for image, label in train_data_loader:\n",
    "            \n",
    "            # 将批量数据导入到GPU中\n",
    "            image = image.to(device)\n",
    "            label = label.to(device)\n",
    "            \n",
    "            # 前向传播\n",
    "            outputs = model_train(image) \n",
    "            loss = criterion(outputs, label)\n",
    "            \n",
    "            # 反向传播和优化\n",
    "            optimizer.zero_grad()\n",
    "            loss.backward()\n",
    "            optimizer.step()\n",
    "            \n",
    "            # 计算小批量的损失和准确度\n",
    "            _, preds = torch.max(outputs, 1) # 选择最大的作为预测结果\n",
    "            acc = (preds == label).float().mean() # 此处返回每个小批量下的准确性，如0.5的准确率\n",
    "            train_loss.append(loss.item())         \n",
    "       \n",
    "            train_accs.append(acc)\n",
    "        \n",
    "        # 记录每个epoch的损失和准确性\n",
    "        train_loss = sum(train_loss) / len(train_loss)\n",
    "        train_acc = sum(train_accs) / len(train_accs)\n",
    "\n",
    "        # 打印每个epoch的loss和acc\n",
    "        print(f\"Train：第{epoch + 1}/{num_epoch}个循环，损失为：{train_loss:.5f}, 准确度为：{train_acc:.5f}\")\n",
    "        \n",
    "        # 保存模型\n",
    "        if train_acc > best_acc:\n",
    "            best_acc = train_acc\n",
    "            torch.save(model_train.state_dict(), model_path)\n",
    "            print('saveing model with acc {:.3f}'.format(best_acc))\n",
    "            "
   ]
  },
  {
   "cell_type": "markdown",
   "id": "ffcd2726",
   "metadata": {},
   "source": [
    "# --------------------------------------7、训练模型----------------------------------------------------"
   ]
  },
  {
   "cell_type": "code",
   "execution_count": 31,
   "id": "9f4bbcb5",
   "metadata": {
    "scrolled": true
   },
   "outputs": [
    {
     "name": "stdout",
     "output_type": "stream",
     "text": [
      "Train：第1/10个循环，损失为：2.36720, 准确度为：0.38825\n",
      "saveing model with acc 0.388\n",
      "Train：第2/10个循环，损失为：2.32512, 准确度为：0.39817\n",
      "saveing model with acc 0.398\n",
      "Train：第3/10个循环，损失为：2.31250, 准确度为：0.40033\n",
      "saveing model with acc 0.400\n",
      "Train：第4/10个循环，损失为：2.26998, 准确度为：0.40292\n",
      "saveing model with acc 0.403\n",
      "Train：第5/10个循环，损失为：2.25041, 准确度为：0.41750\n",
      "saveing model with acc 0.417\n",
      "Train：第6/10个循环，损失为：2.22863, 准确度为：0.42017\n",
      "saveing model with acc 0.420\n",
      "Train：第7/10个循环，损失为：2.21914, 准确度为：0.42342\n",
      "saveing model with acc 0.423\n",
      "Train：第8/10个循环，损失为：2.16282, 准确度为：0.43158\n",
      "saveing model with acc 0.432\n",
      "Train：第9/10个循环，损失为：2.17778, 准确度为：0.43175\n",
      "saveing model with acc 0.432\n",
      "Train：第10/10个循环，损失为：2.17644, 准确度为：0.42942\n",
      "saveing model with acc 0.429\n"
     ]
    }
   ],
   "source": [
    "num_epoch = 10\n",
    "model_path = 'best2.ckpt'\n",
    "train_iter = train_data_loader\n",
    "train(train_iter, num_epoch)"
   ]
  },
  {
   "cell_type": "markdown",
   "id": "6785bf80",
   "metadata": {},
   "source": [
    "# --------------------------------------8、在测试集上检验模型精度-------------------------------"
   ]
  },
  {
   "cell_type": "code",
   "execution_count": 32,
   "id": "b06722aa",
   "metadata": {},
   "outputs": [],
   "source": [
    "\"\"\"准备验证数据集\"\"\"\n",
    "test_dir = 'data/resize_2/test'\n",
    "with open('data/resize_2/test_dict.pickle', 'rb') as pickle_file:\n",
    "    loaded_test_dict = pickle.load(pickle_file)\n",
    "\n",
    "test_data = Dog(test_dir, loaded_test_dict, transform=transform_test)  \n",
    "test_data_loader = data.DataLoader(test_data, batch_size=32, shuffle=False)"
   ]
  },
  {
   "cell_type": "code",
   "execution_count": 33,
   "id": "3e17d842",
   "metadata": {},
   "outputs": [],
   "source": [
    "\"\"\"加载模型\"\"\"\n",
    "model_test = resnet18(120)\n",
    "model_test.load_state_dict(torch.load('best2.ckpt'))\n",
    "model_test = model_test.to(device)"
   ]
  },
  {
   "cell_type": "code",
   "execution_count": 34,
   "id": "cf17edde",
   "metadata": {},
   "outputs": [],
   "source": [
    "\"\"\"定义衡量准确度方法\"\"\"\n",
    "def calculate_accuracy(outputs, labels):\n",
    "    _, predicted = torch.max(outputs.data, 1)\n",
    "    total = labels.size(0)\n",
    "    correct = (predicted == labels).sum().item()\n",
    "    return correct /  total"
   ]
  },
  {
   "cell_type": "code",
   "execution_count": 35,
   "id": "6fe14668",
   "metadata": {},
   "outputs": [
    {
     "name": "stdout",
     "output_type": "stream",
     "text": [
      "Test Accuracy: 0.4501\n"
     ]
    }
   ],
   "source": [
    "model_test.eval()  # 设置模型为评估模式（这会关闭dropout和batch normalization等）\n",
    "\n",
    "with torch.no_grad():\n",
    "    total_correct = 0\n",
    "    total_samples = 0\n",
    "    for images, labels in test_data_loader:\n",
    "        images = images.to(device)\n",
    "        labels = labels.to(device)\n",
    "\n",
    "        outputs = model_test(images)\n",
    "        accuracy = calculate_accuracy(outputs, labels)\n",
    "        # print(accuracy)\n",
    "        total_correct += accuracy * images.size(0)\n",
    "        total_samples += images.size(0)\n",
    "\n",
    "test_accuracy = total_correct / total_samples\n",
    "print(f'Test Accuracy: {test_accuracy:.4f}')"
   ]
  },
  {
   "cell_type": "markdown",
   "id": "205e43b3",
   "metadata": {},
   "source": [
    "# --------------------------------------9、搭建一个GUI来部署模型--------------------------------"
   ]
  },
  {
   "cell_type": "markdown",
   "id": "cce2b591",
   "metadata": {},
   "source": [
    "- 输入一张图片，输出一个分类"
   ]
  },
  {
   "cell_type": "code",
   "execution_count": 39,
   "id": "ae4c95ff",
   "metadata": {},
   "outputs": [
    {
     "name": "stderr",
     "output_type": "stream",
     "text": [
      "Exception in Tkinter callback\n",
      "Traceback (most recent call last):\n",
      "  File \"D:\\miniconda\\envs\\machine_zzh\\lib\\tkinter\\__init__.py\", line 1921, in __call__\n",
      "    return self.func(*args)\n",
      "  File \"C:\\Users\\De\\AppData\\Local\\Temp\\ipykernel_16916\\3755948913.py\", line 21, in predict_image\n",
      "    image = Image.open(image_path)\n",
      "  File \"D:\\miniconda\\envs\\machine_zzh\\lib\\site-packages\\PIL\\Image.py\", line 3131, in open\n",
      "    fp = builtins.open(filename, \"rb\")\n",
      "FileNotFoundError: [Errno 2] No such file or directory: 'a'\n"
     ]
    }
   ],
   "source": [
    "import tkinter as tk\n",
    "from PIL import ImageTk, Image\n",
    "import torch\n",
    "from torchvision import transforms\n",
    "\n",
    "# 加载模型\n",
    "model_tk = resnet18(120)  # 加载模型，需要替换为你的加载模型的方法\n",
    "model_tk.load_state_dict(torch.load('best2.ckpt'))  # 加载模型参数\n",
    "model_tk.eval()  # 设置模型为评估模式\n",
    "\n",
    "# 图像预处理\n",
    "preprocess = transforms.Compose([\n",
    "    transforms.Resize((224, 224)),\n",
    "    transforms.ToTensor(),\n",
    "    transforms.Normalize(mean=[0.485, 0.456, 0.406], std=[0.229, 0.224, 0.225]),\n",
    "])\n",
    "\n",
    "# 定义预测函数\n",
    "def predict_image():\n",
    "    image_path = entry.get()  # 获取输入的图片路径\n",
    "    image = Image.open(image_path)\n",
    "    image = preprocess(image)\n",
    "    image = image.unsqueeze(0)  # 添加批次维度\n",
    "    \n",
    "    with torch.no_grad():\n",
    "        output = model_tk(image)\n",
    "    \n",
    "    predicted_class = torch.argmax(output, dim=1).item()  # 获取预测的类别索引\n",
    "    label.config(text=f\"Predicted Class: {predicted_class}\")  # 在界面输出预测类别\n",
    "\n",
    "# 创建GUI窗口\n",
    "root = tk.Tk()\n",
    "root.title(\"Image Classifier\")\n",
    "\n",
    "# 创建界面元素\n",
    "label_path = tk.Label(root, text=\"Image Path:\")\n",
    "label_path.pack()\n",
    "\n",
    "entry = tk.Entry(root)\n",
    "entry.pack()\n",
    "\n",
    "button = tk.Button(root, text=\"Predict\", command=predict_image)\n",
    "button.pack()\n",
    "\n",
    "label = tk.Label(root)\n",
    "label.pack()\n",
    "\n",
    "root.mainloop()\n"
   ]
  },
  {
   "cell_type": "code",
   "execution_count": null,
   "id": "4298e300",
   "metadata": {},
   "outputs": [],
   "source": []
  }
 ],
 "metadata": {
  "kernelspec": {
   "display_name": "machine_zzh",
   "language": "python",
   "name": "machine_zzh"
  },
  "language_info": {
   "codemirror_mode": {
    "name": "ipython",
    "version": 3
   },
   "file_extension": ".py",
   "mimetype": "text/x-python",
   "name": "python",
   "nbconvert_exporter": "python",
   "pygments_lexer": "ipython3",
   "version": "3.10.11"
  }
 },
 "nbformat": 4,
 "nbformat_minor": 5
}
