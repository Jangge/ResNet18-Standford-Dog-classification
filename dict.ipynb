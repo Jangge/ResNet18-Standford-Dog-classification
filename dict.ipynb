{
 "cells": [
  {
   "cell_type": "markdown",
   "id": "f784b870",
   "metadata": {},
   "source": [
    "# -------------------创建标签和索引的对应字典-----------------------"
   ]
  },
  {
   "cell_type": "code",
   "execution_count": 1,
   "id": "be58e51a",
   "metadata": {},
   "outputs": [],
   "source": [
    "from scipy import io\n",
    "import pandas as pd\n",
    "import os\n",
    "from PIL import Image\n",
    "import pickle\n",
    "import re\n",
    "\n",
    "import numpy as np\n",
    "import matplotlib.pyplot as plt"
   ]
  },
  {
   "cell_type": "code",
   "execution_count": 113,
   "id": "b83b68c1",
   "metadata": {
    "scrolled": false
   },
   "outputs": [],
   "source": [
    "\"\"\"打开标注文件\"\"\"\n",
    "file = io.loadmat('data/lists/file_list.mat') # 训练的标注文件 \n",
    "image_name = file['file_list']  # 所有训练样本的名称\n",
    "path_names = [item[0][0].split('-')[1].split('/')[0] for item in image_name] # list: ['Chihuahua', 'Chihuahua'...]狗狗的真实名称\n"
   ]
  },
  {
   "cell_type": "code",
   "execution_count": 114,
   "id": "8a274025",
   "metadata": {},
   "outputs": [],
   "source": [
    "labels = []\n",
    "for i in range(len(path_names)):\n",
    "    label = file['labels'][i].item()\n",
    "    \n",
    "    labels.append(label - 1)"
   ]
  },
  {
   "cell_type": "code",
   "execution_count": 120,
   "id": "6378c0ed",
   "metadata": {},
   "outputs": [],
   "source": [
    "dicta = dict(zip(labels, path_names))"
   ]
  },
  {
   "cell_type": "code",
   "execution_count": 121,
   "id": "5b1fe2a2",
   "metadata": {},
   "outputs": [],
   "source": [
    "with open('labels_dict.pickle', 'wb') as f:\n",
    "    pickle.dump(dicta, f)"
   ]
  },
  {
   "cell_type": "code",
   "execution_count": null,
   "id": "eee59bb3",
   "metadata": {},
   "outputs": [],
   "source": []
  }
 ],
 "metadata": {
  "kernelspec": {
   "display_name": "machine_zzh",
   "language": "python",
   "name": "machine_zzh"
  },
  "language_info": {
   "codemirror_mode": {
    "name": "ipython",
    "version": 3
   },
   "file_extension": ".py",
   "mimetype": "text/x-python",
   "name": "python",
   "nbconvert_exporter": "python",
   "pygments_lexer": "ipython3",
   "version": "3.10.11"
  }
 },
 "nbformat": 4,
 "nbformat_minor": 5
}
